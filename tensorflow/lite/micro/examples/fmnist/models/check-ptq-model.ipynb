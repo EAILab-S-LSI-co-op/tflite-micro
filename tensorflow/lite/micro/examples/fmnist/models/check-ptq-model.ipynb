{
 "cells": [
  {
   "cell_type": "code",
   "execution_count": 2,
   "metadata": {},
   "outputs": [
    {
     "name": "stderr",
     "output_type": "stream",
     "text": [
      "INFO: Created TensorFlow Lite XNNPACK delegate for CPU.\n"
     ]
    }
   ],
   "source": [
    "import tensorflow as tf\n",
    "# from tensorflow.lite import Interpreter\n",
    "\n",
    "# 모델 경로\n",
    "model_path = \"mnist_int8.tflite\"\n",
    "\n",
    "# Load the TFLite model\n",
    "interpreter = tf.lite.Interpreter(model_path=model_path)\n",
    "interpreter.allocate_tensors()\n",
    "\n",
    "# Get input and output details\n",
    "input_details = interpreter.get_input_details()\n",
    "output_details = interpreter.get_output_details()\n"
   ]
  },
  {
   "cell_type": "code",
   "execution_count": 3,
   "metadata": {},
   "outputs": [
    {
     "name": "stdout",
     "output_type": "stream",
     "text": [
      "Input is INT8 for serving_default_keras_tensor:0\n",
      "Output is INT8 for StatefulPartitionedCall_1:0\n"
     ]
    }
   ],
   "source": [
    "for input_detail in input_details:\n",
    "    if input_detail['dtype'] == tf.int8:\n",
    "        print(f\"Input is INT8 for {input_detail['name']}\")\n",
    "\n",
    "# Output data type\n",
    "for output_detail in output_details:\n",
    "    if output_detail['dtype'] == tf.int8:\n",
    "        print(f\"Output is INT8 for {output_detail['name']}\")"
   ]
  }
 ],
 "metadata": {
  "kernelspec": {
   "display_name": "venv",
   "language": "python",
   "name": "python3"
  },
  "language_info": {
   "codemirror_mode": {
    "name": "ipython",
    "version": 3
   },
   "file_extension": ".py",
   "mimetype": "text/x-python",
   "name": "python",
   "nbconvert_exporter": "python",
   "pygments_lexer": "ipython3",
   "version": "3.10.12"
  }
 },
 "nbformat": 4,
 "nbformat_minor": 2
}
